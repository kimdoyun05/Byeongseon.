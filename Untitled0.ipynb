{
  "nbformat": 4,
  "nbformat_minor": 0,
  "metadata": {
    "colab": {
      "name": "Untitled0.ipynb",
      "provenance": [],
      "authorship_tag": "ABX9TyMRUjuQT2LE2kuylTlChUHx",
      "include_colab_link": true
    },
    "kernelspec": {
      "name": "python3",
      "display_name": "Python 3"
    },
    "language_info": {
      "name": "python"
    }
  },
  "cells": [
    {
      "cell_type": "markdown",
      "metadata": {
        "id": "view-in-github",
        "colab_type": "text"
      },
      "source": [
        "<a href=\"https://colab.research.google.com/github/kimdoyun05/Byeongseon./blob/main/Untitled0.ipynb\" target=\"_parent\"><img src=\"https://colab.research.google.com/assets/colab-badge.svg\" alt=\"Open In Colab\"/></a>"
      ]
    },
    {
      "cell_type": "markdown",
      "metadata": {
        "id": "5kKdH8QMGa15"
      },
      "source": [
        "## 일급객체\n",
        "- OOP(Object Oriented Programming)에서\n",
        "\n"
      ]
    },
    {
      "cell_type": "code",
      "source": [
        ""
      ],
      "metadata": {
        "id": "ZNW78CYFO4gZ"
      },
      "execution_count": null,
      "outputs": []
    },
    {
      "cell_type": "markdown",
      "metadata": {
        "id": "03ipK84aGwGa"
      },
      "source": [
        "## 일급함수\n",
        "- 함수를 다른 변수와 동일하게 다루는 언어는 일급 함수를 가졌다고 표현\n",
        "- 함수를 다른 함수에 매개변수로 재공하거나 함수가 함수를 반환할 수 있으며,변수에도 할당할 수 있다.\n",
        "- 파이썬의 함수는 일급 함수"
      ]
    },
    {
      "cell_type": "markdown",
      "metadata": {
        "id": "qb14jNYfHIX-"
      },
      "source": [
        "### 1. 함수를 변수나 자료구조에 정장할 수 있다.\n",
        "- 변수에 할당 예제"
      ]
    },
    {
      "cell_type": "code",
      "metadata": {
        "id": "SvRQBZZiHOFu"
      },
      "source": [
        "def func(a,b):\n",
        "  return a + b"
      ],
      "execution_count": null,
      "outputs": []
    },
    {
      "cell_type": "code",
      "metadata": {
        "id": "dc3BuvTBHT76"
      },
      "source": [
        "k = func # k 라는 변수에 함수 func를 할당"
      ],
      "execution_count": null,
      "outputs": []
    },
    {
      "cell_type": "code",
      "metadata": {
        "colab": {
          "base_uri": "https://localhost:8080/"
        },
        "id": "upVk4mTxHWeo",
        "outputId": "cee29d11-6e1b-4f29-dbef-c35ee1fafb08"
      },
      "source": [
        "type(func)"
      ],
      "execution_count": null,
      "outputs": [
        {
          "output_type": "execute_result",
          "data": {
            "text/plain": [
              "function"
            ]
          },
          "metadata": {},
          "execution_count": 5
        }
      ]
    },
    {
      "cell_type": "code",
      "metadata": {
        "colab": {
          "base_uri": "https://localhost:8080/"
        },
        "id": "zB4j81QBHrEe",
        "outputId": "f66ee7a3-e558-4bbe-e800-632c735a38ba"
      },
      "source": [
        "type(k)"
      ],
      "execution_count": null,
      "outputs": [
        {
          "output_type": "execute_result",
          "data": {
            "text/plain": [
              "function"
            ]
          },
          "metadata": {},
          "execution_count": 6
        }
      ]
    },
    {
      "cell_type": "code",
      "metadata": {
        "colab": {
          "base_uri": "https://localhost:8080/"
        },
        "id": "rNB_6pcAHvh8",
        "outputId": "0a7bc1c1-8d64-4fcb-fbd1-9086399097fe"
      },
      "source": [
        "func is k"
      ],
      "execution_count": null,
      "outputs": [
        {
          "output_type": "execute_result",
          "data": {
            "text/plain": [
              "True"
            ]
          },
          "metadata": {},
          "execution_count": 7
        }
      ]
    },
    {
      "cell_type": "code",
      "metadata": {
        "colab": {
          "base_uri": "https://localhost:8080/"
        },
        "id": "vGG6mT7PHx7u",
        "outputId": "723557bf-5a00-4db4-e491-43d43f372a50"
      },
      "source": [
        "func == k"
      ],
      "execution_count": null,
      "outputs": [
        {
          "output_type": "execute_result",
          "data": {
            "text/plain": [
              "True"
            ]
          },
          "metadata": {},
          "execution_count": 8
        }
      ]
    },
    {
      "cell_type": "code",
      "metadata": {
        "colab": {
          "base_uri": "https://localhost:8080/"
        },
        "id": "Dt-0qB18H0jy",
        "outputId": "e08ff2d6-46f2-4294-a88f-5b18096dd115"
      },
      "source": [
        "id(func), id(k)"
      ],
      "execution_count": null,
      "outputs": [
        {
          "output_type": "execute_result",
          "data": {
            "text/plain": [
              "(140151842908784, 140151842908784)"
            ]
          },
          "metadata": {},
          "execution_count": 10
        }
      ]
    },
    {
      "cell_type": "code",
      "metadata": {
        "colab": {
          "base_uri": "https://localhost:8080/"
        },
        "id": "qAiVRO0mH-VN",
        "outputId": "f9f25726-0f54-41c7-a240-90fa33774fce"
      },
      "source": [
        "func(1,2)"
      ],
      "execution_count": null,
      "outputs": [
        {
          "output_type": "execute_result",
          "data": {
            "text/plain": [
              "3"
            ]
          },
          "metadata": {},
          "execution_count": 11
        }
      ]
    },
    {
      "cell_type": "code",
      "metadata": {
        "colab": {
          "base_uri": "https://localhost:8080/"
        },
        "id": "ihwri0frIGsq",
        "outputId": "552bcfaf-32dd-4521-cae7-d2a6f77a5922"
      },
      "source": [
        "k(1,2)"
      ],
      "execution_count": null,
      "outputs": [
        {
          "output_type": "execute_result",
          "data": {
            "text/plain": [
              "3"
            ]
          },
          "metadata": {},
          "execution_count": 12
        }
      ]
    },
    {
      "cell_type": "markdown",
      "metadata": {
        "id": "Db-_Dkr_IN9m"
      },
      "source": [
        "- 자료구조에 할당(리스트)"
      ]
    },
    {
      "cell_type": "code",
      "metadata": {
        "id": "2u77fM_7IViO"
      },
      "source": [
        "def add(a,b):\n",
        "  return a + b\n",
        "def minus(a,b):\n",
        "  return a - b"
      ],
      "execution_count": null,
      "outputs": []
    },
    {
      "cell_type": "code",
      "metadata": {
        "id": "DEjzCI65IbMf"
      },
      "source": [
        "calc = [add,minus]"
      ],
      "execution_count": null,
      "outputs": []
    },
    {
      "cell_type": "code",
      "metadata": {
        "colab": {
          "base_uri": "https://localhost:8080/"
        },
        "id": "8zJcuy3HIn-k",
        "outputId": "c5a24336-cc12-45ca-8175-b92095f9623d"
      },
      "source": [
        "for i in calc:\n",
        "  print(i)"
      ],
      "execution_count": null,
      "outputs": [
        {
          "output_type": "stream",
          "name": "stdout",
          "text": [
            "<function add at 0x7f779c87b320>\n",
            "<function minus at 0x7f779c87b830>\n"
          ]
        }
      ]
    },
    {
      "cell_type": "code",
      "metadata": {
        "colab": {
          "base_uri": "https://localhost:8080/"
        },
        "id": "meoG_y4FJD_4",
        "outputId": "c40b6c69-020e-439b-ead4-ef741d353925"
      },
      "source": [
        "for i in calc:\n",
        "  print(i(10,5))"
      ],
      "execution_count": null,
      "outputs": [
        {
          "output_type": "stream",
          "name": "stdout",
          "text": [
            "15\n",
            "5\n"
          ]
        }
      ]
    },
    {
      "cell_type": "markdown",
      "metadata": {
        "id": "XAiobW0sKMko"
      },
      "source": [
        "- 자료구조에 할당(딕셔너리)\n"
      ]
    },
    {
      "cell_type": "code",
      "metadata": {
        "id": "R7CUqG0GKWpZ"
      },
      "source": [
        "def add(a,b):\n",
        "  return a + b\n",
        "def minus(a,b):\n",
        "  return a - b"
      ],
      "execution_count": null,
      "outputs": []
    },
    {
      "cell_type": "code",
      "metadata": {
        "id": "bBaT02VFKs0x"
      },
      "source": [
        "calc = {\n",
        "    'add':add,\n",
        "    'minus':minus\n",
        "}"
      ],
      "execution_count": null,
      "outputs": []
    },
    {
      "cell_type": "code",
      "metadata": {
        "colab": {
          "base_uri": "https://localhost:8080/"
        },
        "id": "mD8f-QKoK0PT",
        "outputId": "77f60787-ed45-4939-ddaf-e995a260d30e"
      },
      "source": [
        "type(calc['add']), type(calc['minus'])"
      ],
      "execution_count": null,
      "outputs": [
        {
          "output_type": "execute_result",
          "data": {
            "text/plain": [
              "(function, function)"
            ]
          },
          "metadata": {},
          "execution_count": 20
        }
      ]
    },
    {
      "cell_type": "code",
      "metadata": {
        "colab": {
          "base_uri": "https://localhost:8080/"
        },
        "id": "0MZ-f3PKK855",
        "outputId": "872252bb-5b8b-4596-9a96-c596364e2f2c"
      },
      "source": [
        "num1 = calc['add'](10,5)\n",
        "num1"
      ],
      "execution_count": null,
      "outputs": [
        {
          "output_type": "execute_result",
          "data": {
            "text/plain": [
              "15"
            ]
          },
          "metadata": {},
          "execution_count": 21
        }
      ]
    },
    {
      "cell_type": "code",
      "metadata": {
        "colab": {
          "base_uri": "https://localhost:8080/"
        },
        "id": "DPe1aa9GLP6k",
        "outputId": "fdcfdf1a-7f32-4037-a438-0c02788ca5a3"
      },
      "source": [
        "num2 = calc['minus'](10,5)\n",
        "num2"
      ],
      "execution_count": null,
      "outputs": [
        {
          "output_type": "execute_result",
          "data": {
            "text/plain": [
              "5"
            ]
          },
          "metadata": {},
          "execution_count": 22
        }
      ]
    },
    {
      "cell_type": "code",
      "metadata": {
        "id": "QjMsf0u2LWK-",
        "colab": {
          "base_uri": "https://localhost:8080/"
        },
        "outputId": "359cafe3-edab-4c14-ca58-a02ea7267538"
      },
      "source": [
        "for i in calc:\n",
        "  print(i, type(i))"
      ],
      "execution_count": null,
      "outputs": [
        {
          "output_type": "stream",
          "name": "stdout",
          "text": [
            "add <class 'str'>\n",
            "minus <class 'str'>\n"
          ]
        }
      ]
    },
    {
      "cell_type": "code",
      "metadata": {
        "colab": {
          "base_uri": "https://localhost:8080/",
          "height": 181
        },
        "id": "GQ1dp_mFPwz8",
        "outputId": "0f9539a2-d768-4e8c-f2ba-d30350f65307"
      },
      "source": [
        "for i in calc:\n",
        "  print(i(10,5))"
      ],
      "execution_count": null,
      "outputs": [
        {
          "output_type": "error",
          "ename": "TypeError",
          "evalue": "ignored",
          "traceback": [
            "\u001b[0;31m---------------------------------------------------------------------------\u001b[0m",
            "\u001b[0;31mTypeError\u001b[0m                                 Traceback (most recent call last)",
            "\u001b[0;32m<ipython-input-27-1a6f60af5d1a>\u001b[0m in \u001b[0;36m<module>\u001b[0;34m()\u001b[0m\n\u001b[1;32m      1\u001b[0m \u001b[0;32mfor\u001b[0m \u001b[0mi\u001b[0m \u001b[0;32min\u001b[0m \u001b[0mcalc\u001b[0m\u001b[0;34m:\u001b[0m\u001b[0;34m\u001b[0m\u001b[0;34m\u001b[0m\u001b[0m\n\u001b[0;32m----> 2\u001b[0;31m   \u001b[0mprint\u001b[0m\u001b[0;34m(\u001b[0m\u001b[0mi\u001b[0m\u001b[0;34m(\u001b[0m\u001b[0;36m10\u001b[0m\u001b[0;34m,\u001b[0m\u001b[0;36m5\u001b[0m\u001b[0;34m)\u001b[0m\u001b[0;34m)\u001b[0m\u001b[0;34m\u001b[0m\u001b[0;34m\u001b[0m\u001b[0m\n\u001b[0m",
            "\u001b[0;31mTypeError\u001b[0m: 'str' object is not callable"
          ]
        }
      ]
    },
    {
      "cell_type": "markdown",
      "metadata": {
        "id": "sS59-y-oP0Hk"
      },
      "source": [
        "### 수행과제 : 위의 for문을 수정해서 함수를 실행되게 하시오."
      ]
    },
    {
      "cell_type": "code",
      "metadata": {
        "colab": {
          "base_uri": "https://localhost:8080/"
        },
        "id": "79b4TqugRH28",
        "outputId": "75200889-9bc0-429d-8e8c-2425ee10600d"
      },
      "source": [
        "calc.keys(), calc.values(), calc.items()"
      ],
      "execution_count": null,
      "outputs": [
        {
          "output_type": "execute_result",
          "data": {
            "text/plain": [
              "(dict_keys(['add', 'minus']),\n",
              " dict_values([<function add at 0x7f779c80fb00>, <function minus at 0x7f779c80f320>]),\n",
              " dict_items([('add', <function add at 0x7f779c80fb00>), ('minus', <function minus at 0x7f779c80f320>)]))"
            ]
          },
          "metadata": {},
          "execution_count": 28
        }
      ]
    },
    {
      "cell_type": "code",
      "metadata": {
        "colab": {
          "base_uri": "https://localhost:8080/",
          "height": 181
        },
        "id": "zMmUFIFlQBOQ",
        "outputId": "66781d0f-8319-4a6f-fcec-c47c0ec72cd9"
      },
      "source": [
        "for i in calc:\n",
        "  print(1(10,5))"
      ],
      "execution_count": null,
      "outputs": [
        {
          "output_type": "error",
          "ename": "TypeError",
          "evalue": "ignored",
          "traceback": [
            "\u001b[0;31m---------------------------------------------------------------------------\u001b[0m",
            "\u001b[0;31mTypeError\u001b[0m                                 Traceback (most recent call last)",
            "\u001b[0;32m<ipython-input-29-3afd50f411d4>\u001b[0m in \u001b[0;36m<module>\u001b[0;34m()\u001b[0m\n\u001b[1;32m      1\u001b[0m \u001b[0;32mfor\u001b[0m \u001b[0mi\u001b[0m \u001b[0;32min\u001b[0m \u001b[0mcalc\u001b[0m\u001b[0;34m:\u001b[0m\u001b[0;34m\u001b[0m\u001b[0;34m\u001b[0m\u001b[0m\n\u001b[0;32m----> 2\u001b[0;31m   \u001b[0mprint\u001b[0m\u001b[0;34m(\u001b[0m\u001b[0;36m1\u001b[0m\u001b[0;34m(\u001b[0m\u001b[0;36m10\u001b[0m\u001b[0;34m,\u001b[0m\u001b[0;36m5\u001b[0m\u001b[0;34m)\u001b[0m\u001b[0;34m)\u001b[0m\u001b[0;34m\u001b[0m\u001b[0;34m\u001b[0m\u001b[0m\n\u001b[0m",
            "\u001b[0;31mTypeError\u001b[0m: 'int' object is not callable"
          ]
        }
      ]
    },
    {
      "cell_type": "markdown",
      "metadata": {
        "id": "8WSfwqIaRfkR"
      },
      "source": [
        "- 함수를 인자로 사용(매개변수로 함수를 전달)"
      ]
    },
    {
      "cell_type": "code",
      "metadata": {
        "id": "UhDeEOeXRoL6"
      },
      "source": [
        "def add(a,b):\n",
        "  return a + b\n",
        "def add_func(func, a,b):\n",
        "  print(func(a,b))"
      ],
      "execution_count": null,
      "outputs": []
    },
    {
      "cell_type": "code",
      "metadata": {
        "colab": {
          "base_uri": "https://localhost:8080/"
        },
        "id": "Cy2ruv-_Ru9V",
        "outputId": "ab291efd-58a9-41c2-c897-5047495a45d7"
      },
      "source": [
        "add_func(add, 1,2)"
      ],
      "execution_count": null,
      "outputs": [
        {
          "output_type": "stream",
          "name": "stdout",
          "text": [
            "3\n"
          ]
        }
      ]
    },
    {
      "cell_type": "markdown",
      "metadata": {
        "id": "XGhLbBqOTWRt"
      },
      "source": [
        "### 컴프리헨션"
      ]
    },
    {
      "cell_type": "code",
      "metadata": {
        "id": "5cSRTShTTo-y"
      },
      "source": [
        "numbers = []\n",
        "for n in range(1, 10+1):\n",
        "    numbers.append(n)"
      ],
      "execution_count": null,
      "outputs": []
    },
    {
      "cell_type": "code",
      "metadata": {
        "colab": {
          "base_uri": "https://localhost:8080/"
        },
        "id": "CYC2ql7GT2tK",
        "outputId": "212121d2-bc8c-4262-8396-17e5b228dd0f"
      },
      "source": [
        "numbers"
      ],
      "execution_count": null,
      "outputs": [
        {
          "output_type": "execute_result",
          "data": {
            "text/plain": [
              "[1, 2, 3, 4, 5, 6, 7, 8, 9, 10]"
            ]
          },
          "metadata": {},
          "execution_count": 36
        }
      ]
    },
    {
      "cell_type": "code",
      "metadata": {
        "colab": {
          "base_uri": "https://localhost:8080/"
        },
        "id": "DiKqtTb9T3xY",
        "outputId": "9d3317ff-8440-464b-ecb2-482a58faed3d"
      },
      "source": [
        "[x for x in range(1,10+1) if x % 2 == 0]"
      ],
      "execution_count": null,
      "outputs": [
        {
          "output_type": "execute_result",
          "data": {
            "text/plain": [
              "[2, 4, 6, 8, 10]"
            ]
          },
          "metadata": {},
          "execution_count": 38
        }
      ]
    },
    {
      "cell_type": "code",
      "metadata": {
        "colab": {
          "base_uri": "https://localhost:8080/"
        },
        "id": "LxokIXDBUaGd",
        "outputId": "e45d2217-e6bf-4c7d-c35d-9725d99cdde4"
      },
      "source": [
        "[x for x in range(1,10+1) if x % 2 == 1]"
      ],
      "execution_count": null,
      "outputs": [
        {
          "output_type": "execute_result",
          "data": {
            "text/plain": [
              "[1, 3, 5, 7, 9]"
            ]
          },
          "metadata": {},
          "execution_count": 39
        }
      ]
    },
    {
      "cell_type": "code",
      "metadata": {
        "colab": {
          "base_uri": "https://localhost:8080/"
        },
        "id": "itR8HHvHS_Nq",
        "outputId": "6341aa14-7270-4eb8-8461-186fd631d939"
      },
      "source": [
        "[ (x, y) for x in ['쌈밥','치킨','피자'] for y in ['사과', '아이스크림','커피']]"
      ],
      "execution_count": null,
      "outputs": [
        {
          "output_type": "execute_result",
          "data": {
            "text/plain": [
              "[('쌈밥', '사과'),\n",
              " ('쌈밥', '아이스크림'),\n",
              " ('쌈밥', '커피'),\n",
              " ('치킨', '사과'),\n",
              " ('치킨', '아이스크림'),\n",
              " ('치킨', '커피'),\n",
              " ('피자', '사과'),\n",
              " ('피자', '아이스크림'),\n",
              " ('피자', '커피')]"
            ]
          },
          "metadata": {},
          "execution_count": 40
        }
      ]
    },
    {
      "cell_type": "code",
      "metadata": {
        "id": "XItzKWqcR9bc"
      },
      "source": [
        "def square(x):\n",
        "  return x * x\n",
        "def cube(x):\n",
        "  return x * x * x\n",
        "def my_func(func, args_list):\n",
        "  result = [func(i) for i in args_list]"
      ],
      "execution_count": null,
      "outputs": []
    },
    {
      "cell_type": "code",
      "metadata": {
        "colab": {
          "base_uri": "https://localhost:8080/",
          "height": 198
        },
        "id": "AMP30wFvVhDZ",
        "outputId": "19bcdefe-5f7a-45fc-a6f2-1c245caf5e46"
      },
      "source": [
        "L = [1,2,3,4,5]\n",
        "answer_1 = my_func(square, L)\n",
        "answer_1"
      ],
      "execution_count": null,
      "outputs": [
        {
          "output_type": "error",
          "ename": "NameError",
          "evalue": "ignored",
          "traceback": [
            "\u001b[0;31m---------------------------------------------------------------------------\u001b[0m",
            "\u001b[0;31mNameError\u001b[0m                                 Traceback (most recent call last)",
            "\u001b[0;32m<ipython-input-49-fbb094ce2da2>\u001b[0m in \u001b[0;36m<module>\u001b[0;34m()\u001b[0m\n\u001b[1;32m      1\u001b[0m \u001b[0mL\u001b[0m \u001b[0;34m=\u001b[0m \u001b[0;34m[\u001b[0m\u001b[0;36m1\u001b[0m\u001b[0;34m,\u001b[0m\u001b[0;36m2\u001b[0m\u001b[0;34m,\u001b[0m\u001b[0;36m3\u001b[0m\u001b[0;34m,\u001b[0m\u001b[0;36m4\u001b[0m\u001b[0;34m,\u001b[0m\u001b[0;36m5\u001b[0m\u001b[0;34m]\u001b[0m\u001b[0;34m\u001b[0m\u001b[0;34m\u001b[0m\u001b[0m\n\u001b[0;32m----> 2\u001b[0;31m \u001b[0manswer_l\u001b[0m \u001b[0;34m=\u001b[0m \u001b[0mmy_func\u001b[0m\u001b[0;34m(\u001b[0m\u001b[0msquare\u001b[0m\u001b[0;34m,\u001b[0m \u001b[0mL\u001b[0m\u001b[0;34m)\u001b[0m\u001b[0;34m\u001b[0m\u001b[0;34m\u001b[0m\u001b[0m\n\u001b[0m\u001b[1;32m      3\u001b[0m \u001b[0manswer_l\u001b[0m\u001b[0;34m\u001b[0m\u001b[0;34m\u001b[0m\u001b[0m\n",
            "\u001b[0;31mNameError\u001b[0m: name 'my_func' is not defined"
          ]
        }
      ]
    },
    {
      "cell_type": "code",
      "metadata": {
        "colab": {
          "base_uri": "https://localhost:8080/",
          "height": 198
        },
        "id": "UvSXMWStU8RD",
        "outputId": "62dc9beb-ce84-4ada-fe92-2a68605ead8e"
      },
      "source": [
        "L = [1,2,3,4,5]\n",
        "answer_2 = my_func(cube, L)\n",
        "answer_2"
      ],
      "execution_count": null,
      "outputs": [
        {
          "output_type": "error",
          "ename": "NameError",
          "evalue": "ignored",
          "traceback": [
            "\u001b[0;31m---------------------------------------------------------------------------\u001b[0m",
            "\u001b[0;31mNameError\u001b[0m                                 Traceback (most recent call last)",
            "\u001b[0;32m<ipython-input-50-9e8adfd6c44e>\u001b[0m in \u001b[0;36m<module>\u001b[0;34m()\u001b[0m\n\u001b[1;32m      1\u001b[0m \u001b[0mL\u001b[0m \u001b[0;34m=\u001b[0m \u001b[0;34m[\u001b[0m\u001b[0;36m1\u001b[0m\u001b[0;34m,\u001b[0m\u001b[0;36m2\u001b[0m\u001b[0;34m,\u001b[0m\u001b[0;36m3\u001b[0m\u001b[0;34m,\u001b[0m\u001b[0;36m4\u001b[0m\u001b[0;34m,\u001b[0m\u001b[0;36m5\u001b[0m\u001b[0;34m]\u001b[0m\u001b[0;34m\u001b[0m\u001b[0;34m\u001b[0m\u001b[0m\n\u001b[0;32m----> 2\u001b[0;31m \u001b[0manswer_2\u001b[0m \u001b[0;34m=\u001b[0m \u001b[0mmy_func\u001b[0m\u001b[0;34m(\u001b[0m\u001b[0mcube\u001b[0m\u001b[0;34m,\u001b[0m \u001b[0mL\u001b[0m\u001b[0;34m)\u001b[0m\u001b[0;34m\u001b[0m\u001b[0;34m\u001b[0m\u001b[0m\n\u001b[0m\u001b[1;32m      3\u001b[0m \u001b[0manswer_2\u001b[0m\u001b[0;34m\u001b[0m\u001b[0;34m\u001b[0m\u001b[0m\n",
            "\u001b[0;31mNameError\u001b[0m: name 'my_func' is not defined"
          ]
        }
      ]
    },
    {
      "cell_type": "markdown",
      "metadata": {
        "id": "1aIcjr4pW0Zo"
      },
      "source": [
        "* 함수를 리턴값으로 사용"
      ]
    },
    {
      "cell_type": "code",
      "metadata": {
        "id": "lgyJOoKeW4FB"
      },
      "source": [
        "def func(name):\n",
        "  def printer():\n",
        "    print(f'Hello {name}')\n",
        "  return printer"
      ],
      "execution_count": null,
      "outputs": []
    },
    {
      "cell_type": "code",
      "metadata": {
        "colab": {
          "base_uri": "https://localhost:8080/"
        },
        "id": "B0NBBIYVXE8v",
        "outputId": "57c3ecc6-87e8-4be2-9b5d-47e3be47a430"
      },
      "source": [
        "func"
      ],
      "execution_count": null,
      "outputs": [
        {
          "output_type": "execute_result",
          "data": {
            "text/plain": [
              "<function __main__.func>"
            ]
          },
          "metadata": {},
          "execution_count": 52
        }
      ]
    },
    {
      "cell_type": "code",
      "metadata": {
        "colab": {
          "base_uri": "https://localhost:8080/"
        },
        "id": "FRb4hCdIXFwv",
        "outputId": "ce3bafb9-ec18-429e-cbc5-22e600a8fbe1"
      },
      "source": [
        "f = func('doyun')\n",
        "f()"
      ],
      "execution_count": null,
      "outputs": [
        {
          "output_type": "stream",
          "name": "stdout",
          "text": [
            "Hello doyun\n"
          ]
        }
      ]
    },
    {
      "cell_type": "code",
      "metadata": {
        "id": "VPAk4hb3XJy9"
      },
      "source": [
        "del func"
      ],
      "execution_count": null,
      "outputs": []
    },
    {
      "cell_type": "code",
      "metadata": {
        "colab": {
          "base_uri": "https://localhost:8080/"
        },
        "id": "gYlz6hU8Xgmd",
        "outputId": "35d2ca05-1bdb-4dbc-92ee-9c82d1e5c981"
      },
      "source": [
        "try:\n",
        "  print(func)\n",
        "except NameError:\n",
        "  print('NameError: func는 없습니다.')"
      ],
      "execution_count": null,
      "outputs": [
        {
          "output_type": "stream",
          "name": "stdout",
          "text": [
            "NameError: func는 없습니다.\n"
          ]
        }
      ]
    },
    {
      "cell_type": "code",
      "metadata": {
        "id": "jc0w28QJXrqB"
      },
      "source": [
        "f()"
      ],
      "execution_count": null,
      "outputs": []
    },
    {
      "cell_type": "code",
      "metadata": {
        "id": "jdZ5-SVnYF3p"
      },
      "source": [
        ""
      ],
      "execution_count": null,
      "outputs": []
    }
  ]
}