{
  "nbformat": 4,
  "nbformat_minor": 0,
  "metadata": {
    "colab": {
      "name": "20211026-1.ipynb",
      "provenance": [],
      "authorship_tag": "ABX9TyORE6zV4HfU9eSCihj8KdG0",
      "include_colab_link": true
    },
    "kernelspec": {
      "name": "python3",
      "display_name": "Python 3"
    },
    "language_info": {
      "name": "python"
    }
  },
  "cells": [
    {
      "cell_type": "markdown",
      "metadata": {
        "id": "view-in-github",
        "colab_type": "text"
      },
      "source": [
        "<a href=\"https://colab.research.google.com/github/kimdoyun05/Byeongseon./blob/main/20211026_1.ipynb\" target=\"_parent\"><img src=\"https://colab.research.google.com/assets/colab-badge.svg\" alt=\"Open In Colab\"/></a>"
      ]
    },
    {
      "cell_type": "code",
      "metadata": {
        "id": "eQfrrsT02HC6"
      },
      "source": [
        "def solution(n):\n",
        "    sum = 0\n",
        "\n",
        "    while n>0:\n",
        "      sum = sum + (n%10)\n",
        "      n = n//10\n",
        "\n",
        "    return sum"
      ],
      "execution_count": null,
      "outputs": []
    },
    {
      "cell_type": "code",
      "metadata": {
        "colab": {
          "base_uri": "https://localhost:8080/"
        },
        "id": "XUZYCgiV7Gog",
        "outputId": "198a7cdd-ccdd-4282-91e0-6a62c71995d3"
      },
      "source": [
        "print(solution(123456789))"
      ],
      "execution_count": null,
      "outputs": [
        {
          "output_type": "stream",
          "name": "stdout",
          "text": [
            "45\n"
          ]
        }
      ]
    },
    {
      "cell_type": "code",
      "metadata": {
        "colab": {
          "base_uri": "https://localhost:8080/"
        },
        "id": "kardOk7C7MDl",
        "outputId": "429e1e24-8779-4e4f-fe98-c20f1236a0e5"
      },
      "source": [
        "a = 12345\n",
        "sum = 0\n",
        "for i in str(a):\n",
        "    sum = sum + int(i)\n",
        "print(sum)"
      ],
      "execution_count": null,
      "outputs": [
        {
          "output_type": "stream",
          "name": "stdout",
          "text": [
            "15\n"
          ]
        }
      ]
    },
    {
      "cell_type": "code",
      "metadata": {
        "id": "q4YBUiu38avj"
      },
      "source": [
        ""
      ],
      "execution_count": null,
      "outputs": []
    }
  ]
}