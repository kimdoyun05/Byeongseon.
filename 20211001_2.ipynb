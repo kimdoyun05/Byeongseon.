{
  "cells": [
    {
      "cell_type": "markdown",
      "metadata": {
        "id": "view-in-github",
        "colab_type": "text"
      },
      "source": [
        "<a href=\"https://colab.research.google.com/github/kimdoyun05/Byeongseon./blob/main/20211001_2.ipynb\" target=\"_parent\"><img src=\"https://colab.research.google.com/assets/colab-badge.svg\" alt=\"Open In Colab\"/></a>"
      ]
    },
    {
      "cell_type": "code",
      "execution_count": null,
      "metadata": {
        "colab": {
          "background_save": true,
          "base_uri": "https://localhost:8080/"
        },
        "id": "7_dWEWB9YxCc",
        "outputId": "780ba540-b23f-4a30-d944-9cf6230736c1"
      },
      "outputs": [
        {
          "name": "stdout",
          "output_type": "stream",
          "text": [
            "*********************\n",
            "* 가위 바위 보 게임 *\n",
            "*********************\n",
            "1.가위\n",
            "2.바위\n",
            "3.보\n",
            "졌당\n",
            "*********************\n",
            "* 가위 바위 보 게임 *\n",
            "*********************\n",
            "1.가위\n",
            "2.바위\n",
            "3.보\n",
            "이겼당\n",
            "*********************\n",
            "* 가위 바위 보 게임 *\n",
            "*********************\n",
            "1.가위\n",
            "2.바위\n",
            "3.보\n"
          ]
        }
      ],
      "source": [
        "import random\n",
        "while True:\n",
        "    print('*' * 21)\n",
        "    print('* 가위 바위 보 게임 *')\n",
        "    print('*' * 21)\n",
        "    print('1.가위') \n",
        "    print('2.바위')\n",
        "    print('3.보')\n",
        "    mynum = int(input('입력->'))\n",
        "    comnum = random.randrange(1,4)\n",
        "\n",
        "    if mynum == comnum:\n",
        "        print('비겼당')\n",
        "    elif mynum==1 and comnum==3:\n",
        "        print('이겼당')\n",
        "    elif mynum==2 and comnum==1:\n",
        "       print('이겼당')\n",
        "    elif mynum==3 and comnum==2:\n",
        "       print('이겼당')\n",
        "    else:\n",
        "      print('졌당')"
      ]
    },
    {
      "cell_type": "code",
      "execution_count": null,
      "metadata": {
        "id": "ujY460YQZMp5"
      },
      "outputs": [],
      "source": [
        ""
      ]
    }
  ],
  "metadata": {
    "colab": {
      "collapsed_sections": [],
      "name": "20211001-2.ipynb",
      "provenance": [],
      "authorship_tag": "ABX9TyNjgdA8L4tKWfpCgjRED/iB",
      "include_colab_link": true
    },
    "kernelspec": {
      "display_name": "Python 3",
      "name": "python3"
    },
    "language_info": {
      "name": "python"
    }
  },
  "nbformat": 4,
  "nbformat_minor": 0
}